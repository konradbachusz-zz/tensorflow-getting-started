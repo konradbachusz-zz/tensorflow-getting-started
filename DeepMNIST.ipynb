{
  "nbformat": 4,
  "nbformat_minor": 0,
  "metadata": {
    "colab": {
      "name": "DeepMNIST.ipynb",
      "provenance": [],
      "collapsed_sections": [],
      "authorship_tag": "ABX9TyNKx8qopWkB6vRxHttQvQFg",
      "include_colab_link": true
    },
    "kernelspec": {
      "name": "python3",
      "display_name": "Python 3"
    }
  },
  "cells": [
    {
      "cell_type": "markdown",
      "metadata": {
        "id": "view-in-github",
        "colab_type": "text"
      },
      "source": [
        "<a href=\"https://colab.research.google.com/github/konradbachusz/tensorflow-getting-started/blob/master/DeepMNIST.ipynb\" target=\"_parent\"><img src=\"https://colab.research.google.com/assets/colab-badge.svg\" alt=\"Open In Colab\"/></a>"
      ]
    },
    {
      "cell_type": "code",
      "metadata": {
        "id": "bgZd6zdhzxwW",
        "colab_type": "code",
        "colab": {
          "base_uri": "https://localhost:8080/",
          "height": 34
        },
        "outputId": "dbea25c3-6db1-4824-968d-95043c4350ff"
      },
      "source": [
        "\"%tensorflow_version 1.5\" "
      ],
      "execution_count": 4,
      "outputs": [
        {
          "output_type": "execute_result",
          "data": {
            "text/plain": [
              "'%tensorflow_version 1.5'"
            ]
          },
          "metadata": {
            "tags": []
          },
          "execution_count": 4
        }
      ]
    },
    {
      "cell_type": "code",
      "metadata": {
        "id": "VbvhJA-XwvLe",
        "colab_type": "code",
        "colab": {
          "base_uri": "https://localhost:8080/",
          "height": 987
        },
        "outputId": "71a6fd71-8a58-47c9-a0dd-079cd742c49a"
      },
      "source": [
        "\n",
        "import tensorflow as tf\n",
        "from tensorflow.examples.tutorials.mnist import input_data\n",
        "\n",
        "# Create input object which reads data from MNIST datasets.  Perform one-hot encoding to define the digit\n",
        "mnist = input_data.read_data_sets(\"MNIST_data/\", one_hot=True)\n",
        "\n",
        "# Using Interactive session makes it the default sessions so we do not need to pass sess\n",
        "sess = tf.InteractiveSession()\n",
        "\n",
        "# Define placeholders for MNIST input data\n",
        "x = tf.placeholder(tf.float32, shape=[None, 784])\n",
        "y_ = tf.placeholder(tf.float32, [None, 10])\n",
        "\n",
        "# change the MNIST input data from a list of values to a 28 pixel X 28 pixel X 1 grayscale value cube\n",
        "#    which the Convolution NN can use.\n",
        "x_image = tf.reshape(x, [-1,28,28,1], name=\"x_image\")\n",
        "\n",
        "\n",
        "# Define helper functions to created weights and baises variables, and convolution, and pooling layers\n",
        "#   We are using RELU as our activation function.  These must be initialized to a small positive number \n",
        "#   and with some noise so you don't end up going to zero when comparing diffs\n",
        "def weight_variable(shape):\n",
        "    initial = tf.truncated_normal(shape, stddev=0.1)\n",
        "    return tf.Variable(initial)\n",
        "\n",
        "def bias_variable(shape):\n",
        "    initial = tf.constant(0.1, shape=shape)\n",
        "    return tf.Variable(initial)\n",
        "\n",
        "#   Convolution and Pooling - we do Convolution, and then pooling to control overfitting\n",
        "def conv2d(x, W):\n",
        "    return tf.nn.conv2d(x, W, strides=[1, 1, 1, 1], padding='SAME')\n",
        "\n",
        "def max_pool_2x2(x):\n",
        "    return tf.nn.max_pool(x, ksize=[1, 2, 2, 1],\n",
        "                        strides=[1, 2, 2, 1], padding='SAME')\n",
        "\n",
        "# Define layers in the NN\n",
        "\n",
        "# 1st Convolution layer\n",
        "# 32 features for each 5X5 patch of the image\n",
        "W_conv1 = weight_variable([5, 5, 1, 32])\n",
        "b_conv1 = bias_variable([32])\n",
        "# Do convolution on images, add bias and push through RELU activation\n",
        "h_conv1 = tf.nn.relu(conv2d(x_image, W_conv1) + b_conv1)\n",
        "# take results and run through max_pool\n",
        "h_pool1 = max_pool_2x2(h_conv1)\n",
        "\n",
        "# 2nd Convolution layer\n",
        "# Process the 32 features from Convolution layer 1, in 5 X 5 patch.  Return 64 features weights and biases\n",
        "W_conv2 = weight_variable([5, 5, 32, 64])\n",
        "b_conv2 = bias_variable([64])\n",
        "# Do convolution of the output of the 1st convolution layer.  Pool results \n",
        "h_conv2 = tf.nn.relu(conv2d(h_pool1, W_conv2) + b_conv2)\n",
        "h_pool2 = max_pool_2x2(h_conv2)\n",
        "\n",
        "# Fully Connected Layer\n",
        "W_fc1 = weight_variable([7 * 7 * 64, 1024])\n",
        "b_fc1 = bias_variable([1024])\n",
        "\n",
        "#   Connect output of pooling layer 2 as input to full connected layer\n",
        "h_pool2_flat = tf.reshape(h_pool2, [-1, 7*7*64])\n",
        "h_fc1 = tf.nn.relu(tf.matmul(h_pool2_flat, W_fc1) + b_fc1)\n",
        "\n",
        "# dropout some neurons to reduce overfitting\n",
        "keep_prob = tf.placeholder(tf.float32)  # get dropout probability as a training input.\n",
        "h_fc1_drop = tf.nn.dropout(h_fc1, keep_prob)\n",
        "\n",
        "# Readout layer\n",
        "W_fc2 = weight_variable([1024, 10])\n",
        "b_fc2 = bias_variable([10])\n",
        "\n",
        "# Define model\n",
        "y_conv = tf.matmul(h_fc1_drop, W_fc2) + b_fc2\n",
        "\n",
        "# Loss measurement\n",
        "cross_entropy = tf.reduce_mean(tf.nn.softmax_cross_entropy_with_logits(logits=y_conv, labels=y_))\n",
        "\n",
        "# loss optimization\n",
        "train_step = tf.train.AdamOptimizer(1e-4).minimize(cross_entropy)\n",
        "\n",
        "# What is correct\n",
        "correct_prediction = tf.equal(tf.argmax(y_conv,1), tf.argmax(y_,1))\n",
        "# How accurate is it?\n",
        "accuracy = tf.reduce_mean(tf.cast(correct_prediction, tf.float32))\n",
        "\n",
        "# Initialize all of the variables\n",
        "sess.run(tf.global_variables_initializer())\n",
        "\n",
        "# Train the model\n",
        "import time\n",
        "\n",
        "#  define number of steps and how often we display progress\n",
        "num_steps = 3000\n",
        "display_every = 100\n",
        "\n",
        "# Start timer\n",
        "start_time = time.time()\n",
        "end_time = time.time()\n",
        "\n",
        "for i in range(num_steps):\n",
        "    batch = mnist.train.next_batch(50)\n",
        "    train_step.run(feed_dict={x: batch[0], y_: batch[1], keep_prob: 0.5})\n",
        "\n",
        "    # Periodic status display\n",
        "    if i%display_every == 0:\n",
        "        train_accuracy = accuracy.eval(feed_dict={\n",
        "            x:batch[0], y_: batch[1], keep_prob: 1.0})\n",
        "        end_time = time.time()\n",
        "        print(\"step {0}, elapsed time {1:.2f} seconds, training accuracy {2:.3f}%\".format(i, end_time-start_time, train_accuracy*100.0))\n",
        "\n",
        "\n",
        "# Display summary \n",
        "#     Time to train\n",
        "end_time = time.time()\n",
        "print(\"Total training time for {0} batches: {1:.2f} seconds\".format(i+1, end_time-start_time))\n",
        "\n",
        "#     Accuracy on test data\n",
        "print(\"Test accuracy {0:.3f}%\".format(accuracy.eval(feed_dict={\n",
        "    x: mnist.test.images, y_: mnist.test.labels, keep_prob: 1.0})*100.0))\n",
        "\n",
        "sess.close()\n"
      ],
      "execution_count": 0,
      "outputs": [
        {
          "output_type": "stream",
          "text": [
            "/usr/local/lib/python3.6/dist-packages/tensorflow/python/framework/dtypes.py:493: FutureWarning: Passing (type, 1) or '1type' as a synonym of type is deprecated; in a future version of numpy, it will be understood as (type, (1,)) / '(1,)type'.\n",
            "  _np_qint8 = np.dtype([(\"qint8\", np.int8, 1)])\n",
            "/usr/local/lib/python3.6/dist-packages/tensorflow/python/framework/dtypes.py:494: FutureWarning: Passing (type, 1) or '1type' as a synonym of type is deprecated; in a future version of numpy, it will be understood as (type, (1,)) / '(1,)type'.\n",
            "  _np_quint8 = np.dtype([(\"quint8\", np.uint8, 1)])\n",
            "/usr/local/lib/python3.6/dist-packages/tensorflow/python/framework/dtypes.py:495: FutureWarning: Passing (type, 1) or '1type' as a synonym of type is deprecated; in a future version of numpy, it will be understood as (type, (1,)) / '(1,)type'.\n",
            "  _np_qint16 = np.dtype([(\"qint16\", np.int16, 1)])\n",
            "/usr/local/lib/python3.6/dist-packages/tensorflow/python/framework/dtypes.py:496: FutureWarning: Passing (type, 1) or '1type' as a synonym of type is deprecated; in a future version of numpy, it will be understood as (type, (1,)) / '(1,)type'.\n",
            "  _np_quint16 = np.dtype([(\"quint16\", np.uint16, 1)])\n",
            "/usr/local/lib/python3.6/dist-packages/tensorflow/python/framework/dtypes.py:497: FutureWarning: Passing (type, 1) or '1type' as a synonym of type is deprecated; in a future version of numpy, it will be understood as (type, (1,)) / '(1,)type'.\n",
            "  _np_qint32 = np.dtype([(\"qint32\", np.int32, 1)])\n",
            "/usr/local/lib/python3.6/dist-packages/tensorflow/python/framework/dtypes.py:502: FutureWarning: Passing (type, 1) or '1type' as a synonym of type is deprecated; in a future version of numpy, it will be understood as (type, (1,)) / '(1,)type'.\n",
            "  np_resource = np.dtype([(\"resource\", np.ubyte, 1)])\n"
          ],
          "name": "stderr"
        },
        {
          "output_type": "display_data",
          "data": {
            "text/html": [
              "<p style=\"color: red;\">\n",
              "The default version of TensorFlow in Colab will switch to TensorFlow 2.x on the 27th of March, 2020.<br>\n",
              "We recommend you <a href=\"https://www.tensorflow.org/guide/migrate\" target=\"_blank\">upgrade</a> now\n",
              "or ensure your notebook will continue to use TensorFlow 1.x via the <code>%tensorflow_version 1.x</code> magic:\n",
              "<a href=\"https://colab.research.google.com/notebooks/tensorflow_version.ipynb\" target=\"_blank\">more info</a>.</p>\n"
            ],
            "text/plain": [
              "<IPython.core.display.HTML object>"
            ]
          },
          "metadata": {
            "tags": []
          }
        },
        {
          "output_type": "stream",
          "text": [
            "Successfully downloaded train-images-idx3-ubyte.gz 9912422 bytes.\n",
            "Extracting MNIST_data/train-images-idx3-ubyte.gz\n",
            "Successfully downloaded train-labels-idx1-ubyte.gz 28881 bytes.\n",
            "Extracting MNIST_data/train-labels-idx1-ubyte.gz\n",
            "Successfully downloaded t10k-images-idx3-ubyte.gz 1648877 bytes.\n",
            "Extracting MNIST_data/t10k-images-idx3-ubyte.gz\n",
            "Successfully downloaded t10k-labels-idx1-ubyte.gz 4542 bytes.\n",
            "Extracting MNIST_data/t10k-labels-idx1-ubyte.gz\n",
            "WARNING:tensorflow:From <ipython-input-2-823f34ba3efe>:78: softmax_cross_entropy_with_logits (from tensorflow.python.ops.nn_ops) is deprecated and will be removed in a future version.\n",
            "Instructions for updating:\n",
            "\n",
            "Future major versions of TensorFlow will allow gradients to flow\n",
            "into the labels input on backprop by default.\n",
            "\n",
            "See tf.nn.softmax_cross_entropy_with_logits_v2.\n",
            "\n",
            "step 0, elapsed time 0.56 seconds, training accuracy 14.000%\n",
            "step 100, elapsed time 34.14 seconds, training accuracy 84.000%\n",
            "step 200, elapsed time 67.58 seconds, training accuracy 94.000%\n",
            "step 300, elapsed time 101.13 seconds, training accuracy 90.000%\n",
            "step 400, elapsed time 134.60 seconds, training accuracy 88.000%\n",
            "step 500, elapsed time 168.03 seconds, training accuracy 98.000%\n",
            "step 600, elapsed time 201.36 seconds, training accuracy 96.000%\n",
            "step 700, elapsed time 234.61 seconds, training accuracy 88.000%\n",
            "step 800, elapsed time 267.79 seconds, training accuracy 96.000%\n",
            "step 900, elapsed time 301.04 seconds, training accuracy 100.000%\n",
            "step 1000, elapsed time 334.24 seconds, training accuracy 92.000%\n",
            "step 1100, elapsed time 367.50 seconds, training accuracy 96.000%\n",
            "step 1200, elapsed time 400.65 seconds, training accuracy 94.000%\n",
            "step 1300, elapsed time 433.78 seconds, training accuracy 100.000%\n",
            "step 1400, elapsed time 466.98 seconds, training accuracy 96.000%\n",
            "step 1500, elapsed time 500.25 seconds, training accuracy 100.000%\n",
            "step 1600, elapsed time 533.43 seconds, training accuracy 96.000%\n",
            "step 1700, elapsed time 566.61 seconds, training accuracy 96.000%\n",
            "step 1800, elapsed time 599.79 seconds, training accuracy 100.000%\n",
            "step 1900, elapsed time 633.09 seconds, training accuracy 100.000%\n",
            "step 2000, elapsed time 666.55 seconds, training accuracy 100.000%\n",
            "step 2100, elapsed time 699.85 seconds, training accuracy 100.000%\n",
            "step 2200, elapsed time 733.19 seconds, training accuracy 98.000%\n",
            "step 2300, elapsed time 766.44 seconds, training accuracy 98.000%\n"
          ],
          "name": "stdout"
        }
      ]
    }
  ]
}