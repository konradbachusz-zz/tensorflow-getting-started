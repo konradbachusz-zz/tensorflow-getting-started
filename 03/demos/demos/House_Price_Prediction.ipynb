{
  "nbformat": 4,
  "nbformat_minor": 0,
  "metadata": {
    "kernelspec": {
      "display_name": "Python 3",
      "language": "python",
      "name": "python3"
    },
    "language_info": {
      "codemirror_mode": {
        "name": "ipython",
        "version": 3
      },
      "file_extension": ".py",
      "mimetype": "text/x-python",
      "name": "python",
      "nbconvert_exporter": "python",
      "pygments_lexer": "ipython3",
      "version": "3.7.3"
    },
    "colab": {
      "name": "Untitled.ipynb",
      "provenance": []
    }
  },
  "cells": [
    {
      "cell_type": "code",
      "metadata": {
        "id": "cB5Cte4rXBdo",
        "colab_type": "code",
        "colab": {
          "base_uri": "https://localhost:8080/",
          "height": 89
        },
        "outputId": "45095a3f-fec9-4950-bd01-69ac06b7a3be"
      },
      "source": [
        "\"%tensorflow_version 1.x\" "
      ],
      "execution_count": 4,
      "outputs": [
        {
          "output_type": "stream",
          "text": [
            "WARNING:tensorflow:From /usr/local/lib/python3.6/dist-packages/tensorflow/python/compat/v2_compat.py:96: disable_resource_variables (from tensorflow.python.ops.variable_scope) is deprecated and will be removed in a future version.\n",
            "Instructions for updating:\n",
            "non-resource variables are not supported in the long term\n"
          ],
          "name": "stdout"
        }
      ]
    },
    {
      "cell_type": "code",
      "metadata": {
        "id": "xtrgl-ruWudr",
        "colab_type": "code",
        "colab": {}
      },
      "source": [
        "#\n",
        "#   House_Price_Prediction.py\n",
        "#\n",
        "#    This is a very simple prediction of house prices based on house size, implemented \n",
        "#   in TensorFlow.  This code is part of Pluralsight's course \"TensorFlow: Getting Started\"\n",
        "#\n",
        "\n",
        "import tensorflow as tf\n",
        "import numpy as np\n",
        "import math\n",
        "import matplotlib\n",
        "matplotlib.use('Agg')\n",
        "import matplotlib.pyplot as plt\n",
        "import matplotlib.animation as animation # import animation support\n",
        "import tensorflow.compat.v1 as tf\n",
        "tf.disable_v2_behavior() \n",
        "#  generation some house sizes between 1000 and 3500 (typical sq ft of house)\n",
        "num_house = 160\n",
        "np.random.seed(42)\n",
        "house_size = np.random.randint(low=1000, high=3500, size=num_house )\n",
        "\n",
        "# Generate house prices from house size with a random noise added.\n",
        "np.random.seed(42)\n",
        "house_price = house_size * 100.0 + np.random.randint(low=20000, high=70000, size=num_house)  \n",
        "\n",
        "# Plot generated house and size \n",
        "plt.plot(house_size, house_price, \"bx\")  # bx = blue x\n",
        "plt.ylabel(\"Price\")\n",
        "plt.xlabel(\"Size\")\n",
        "plt.show()\n",
        "\n",
        "# you need to normalize values to prevent under/overflows.\n",
        "def normalize(array):\n",
        "    return (array - array.mean()) / array.std()\n",
        "\n",
        "# define number of training samples, 0.7 = 70%.  We can take the first 70% since the values are randomized\n",
        "num_train_samples = math.floor(num_house * 0.7)\n",
        "\n",
        "# define training data\n",
        "train_house_size = np.asarray(house_size[:num_train_samples])\n",
        "train_price = np.asanyarray(house_price[:num_train_samples:])\n",
        "\n",
        "train_house_size_norm = normalize(train_house_size)\n",
        "train_price_norm = normalize(train_price)\n",
        "\n",
        "# define test data\n",
        "test_house_size = np.array(house_size[num_train_samples:])\n",
        "test_house_price = np.array(house_price[num_train_samples:])\n",
        "\n",
        "test_house_size_norm = normalize(test_house_size)\n",
        "test_house_price_norm = normalize(test_house_price)\n",
        "\n",
        "#  Set up the TensorFlow placeholders that get updated as we descend down the gradient\n",
        "tf_house_size = tf.placeholder(\"float\", name=\"house_size\")\n",
        "tf_price = tf.placeholder(\"float\", name=\"price\")\n",
        "\n",
        "# Define the variables holding the size_factor and price we set during training.  \n",
        "# We initialize them to some random values based on the normal distribution.\n",
        "tf_size_factor = tf.Variable(np.random.randn(), name=\"size_factor\")\n",
        "tf_price_offset = tf.Variable(np.random.randn(), name=\"price_offset\")\n",
        "\n",
        "\n",
        "# 2. Define the operations for the predicting values - predicted price = (size_factor * house_size ) + price_offset\n",
        "#  Notice, the use of the tensorflow add and multiply functions.  These add the operations to the computation graph,\n",
        "#  AND the tensorflow methods understand how to deal with Tensors.  Therefore do not try to use numpy or other library \n",
        "#  methods.\n",
        "tf_price_pred = tf.add(tf.multiply(tf_size_factor, tf_house_size), tf_price_offset)\n",
        "\n",
        "\n",
        "# 3. Define the Loss Function (how much error) - Mean squared error\n",
        "tf_cost = tf.reduce_sum(tf.pow(tf_price_pred-tf_price, 2))/(2*num_train_samples)\n",
        "\n",
        "\n",
        "# Optimizer learning rate.  The size of the steps down the gradient\n",
        "learning_rate = 0.1\n",
        "\n",
        "# 4. define a Gradient descent optimizer that will minimize the loss defined in the operation \"cost\".\n",
        "optimizer = tf.train.GradientDescentOptimizer(learning_rate).minimize(tf_cost)"
      ],
      "execution_count": 0,
      "outputs": []
    },
    {
      "cell_type": "code",
      "metadata": {
        "id": "Fy7LFrn3XEFF",
        "colab_type": "code",
        "colab": {}
      },
      "source": [
        ""
      ],
      "execution_count": 0,
      "outputs": []
    }
  ]
}