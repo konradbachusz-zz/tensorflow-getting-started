{
 "cells": [
  {
   "cell_type": "code",
   "execution_count": 2,
   "metadata": {},
   "outputs": [
    {
     "name": "stdout",
     "output_type": "stream",
     "text": [
      "Collecting tensorflow\n",
      "\u001b[?25l  Downloading https://files.pythonhosted.org/packages/1d/56/0dbdae2a3c527a119bec0d5cf441655fe030ce1daa6fa6b9542f7dbd8664/tensorflow-2.1.0-cp37-cp37m-manylinux2010_x86_64.whl (421.8MB)\n",
      "\u001b[K     |███                             | 40.9MB 136kB/s eta 0:46:29    |▏                               | 1.8MB 757kB/s eta 0:09:15     |▌                               | 6.3MB 118kB/s eta 0:58:22     |▌                               | 6.6MB 740kB/s eta 0:09:21     |▋                               | 7.7MB 121kB/s eta 0:56:38     |▉                               | 10.7MB 3.6MB/s eta 0:01:54     |▉                               | 11.0MB 2.2MB/s eta 0:03:05     |█                               | 13.1MB 2.2MB/s eta 0:03:04     |█                               | 13.6MB 2.9MB/s eta 0:02:20     |█                               | 14.5MB 2.9MB/s eta 0:02:20     |█                               | 14.6MB 2.9MB/s eta 0:02:20     |█▎                              | 16.4MB 51kB/s eta 2:12:09     |█▍                              | 18.8MB 2.4MB/s eta 0:02:51     |█▌                              | 19.3MB 2.4MB/s eta 0:02:51     |█▊                              | 22.0MB 113kB/s eta 0:58:48     |█▊                              | 22.4MB 113kB/s eta 0:58:44     |█▊                              | 22.9MB 113kB/s eta 0:58:40     |█▊                              | 23.4MB 120kB/s eta 0:54:57     |██                              | 25.9MB 2.3MB/s eta 0:02:56     |██                              | 26.1MB 2.3MB/s eta 0:02:56     |██                              | 27.0MB 207kB/s eta 0:31:41     |██▍                             | 31.3MB 112kB/s eta 0:58:02     |██▌                             | 32.3MB 324kB/s eta 0:20:02     |██▋                             | 34.1MB 413kB/s eta 0:15:38     |██▊                             | 35.4MB 85kB/s eta 1:15:03     |██▊                             | 35.6MB 113kB/s eta 0:56:31     |██▊                             | 36.0MB 110kB/s eta 0:58:02     |██▊                             | 36.5MB 108kB/s eta 0:59:14     |██▉                             | 38.0MB 212kB/s eta 0:30:05     |███                             | 38.6MB 188kB/s eta 0:33:50     |███                             | 38.7MB 188kB/s eta 0:33:50     |███                             | 39.3MB 330kB/s eta 0:19:19\u001b[31mERROR: Exception:\n",
      "Traceback (most recent call last):\n",
      "  File \"/snap/jupyter/6/lib/python3.7/site-packages/pip/_vendor/urllib3/response.py\", line 360, in _error_catcher\n",
      "    yield\n",
      "  File \"/snap/jupyter/6/lib/python3.7/site-packages/pip/_vendor/urllib3/response.py\", line 442, in read\n",
      "    data = self._fp.read(amt)\n",
      "  File \"/snap/jupyter/6/lib/python3.7/site-packages/pip/_vendor/cachecontrol/filewrapper.py\", line 62, in read\n",
      "    data = self.__fp.read(amt)\n",
      "  File \"/snap/jupyter/6/lib/python3.7/http/client.py\", line 447, in read\n",
      "    n = self.readinto(b)\n",
      "  File \"/snap/jupyter/6/lib/python3.7/http/client.py\", line 491, in readinto\n",
      "    n = self.fp.readinto(b)\n",
      "  File \"/snap/jupyter/6/lib/python3.7/socket.py\", line 589, in readinto\n",
      "    return self._sock.recv_into(b)\n",
      "  File \"/snap/jupyter/6/lib/python3.7/ssl.py\", line 1052, in recv_into\n",
      "    return self.read(nbytes, buffer)\n",
      "  File \"/snap/jupyter/6/lib/python3.7/ssl.py\", line 911, in read\n",
      "    return self._sslobj.read(len, buffer)\n",
      "socket.timeout: The read operation timed out\n",
      "\n",
      "During handling of the above exception, another exception occurred:\n",
      "\n",
      "Traceback (most recent call last):\n",
      "  File \"/snap/jupyter/6/lib/python3.7/site-packages/pip/_internal/cli/base_command.py\", line 178, in main\n",
      "    status = self.run(options, args)\n",
      "  File \"/snap/jupyter/6/lib/python3.7/site-packages/pip/_internal/commands/install.py\", line 352, in run\n",
      "    resolver.resolve(requirement_set)\n",
      "  File \"/snap/jupyter/6/lib/python3.7/site-packages/pip/_internal/resolve.py\", line 131, in resolve\n",
      "    self._resolve_one(requirement_set, req)\n",
      "  File \"/snap/jupyter/6/lib/python3.7/site-packages/pip/_internal/resolve.py\", line 294, in _resolve_one\n",
      "    abstract_dist = self._get_abstract_dist_for(req_to_install)\n",
      "  File \"/snap/jupyter/6/lib/python3.7/site-packages/pip/_internal/resolve.py\", line 242, in _get_abstract_dist_for\n",
      "    self.require_hashes\n",
      "  File \"/snap/jupyter/6/lib/python3.7/site-packages/pip/_internal/operations/prepare.py\", line 347, in prepare_linked_requirement\n",
      "    progress_bar=self.progress_bar\n",
      "  File \"/snap/jupyter/6/lib/python3.7/site-packages/pip/_internal/download.py\", line 886, in unpack_url\n",
      "    progress_bar=progress_bar\n",
      "  File \"/snap/jupyter/6/lib/python3.7/site-packages/pip/_internal/download.py\", line 746, in unpack_http_url\n",
      "    progress_bar)\n",
      "  File \"/snap/jupyter/6/lib/python3.7/site-packages/pip/_internal/download.py\", line 954, in _download_http_url\n",
      "    _download_url(resp, link, content_file, hashes, progress_bar)\n",
      "  File \"/snap/jupyter/6/lib/python3.7/site-packages/pip/_internal/download.py\", line 683, in _download_url\n",
      "    hashes.check_against_chunks(downloaded_chunks)\n",
      "  File \"/snap/jupyter/6/lib/python3.7/site-packages/pip/_internal/utils/hashes.py\", line 62, in check_against_chunks\n",
      "    for chunk in chunks:\n",
      "  File \"/snap/jupyter/6/lib/python3.7/site-packages/pip/_internal/download.py\", line 651, in written_chunks\n",
      "    for chunk in chunks:\n",
      "  File \"/snap/jupyter/6/lib/python3.7/site-packages/pip/_internal/utils/ui.py\", line 156, in iter\n",
      "    for x in it:\n",
      "  File \"/snap/jupyter/6/lib/python3.7/site-packages/pip/_internal/download.py\", line 640, in resp_read\n",
      "    decode_content=False):\n",
      "  File \"/snap/jupyter/6/lib/python3.7/site-packages/pip/_vendor/urllib3/response.py\", line 494, in stream\n",
      "    data = self.read(amt=amt, decode_content=decode_content)\n",
      "  File \"/snap/jupyter/6/lib/python3.7/site-packages/pip/_vendor/urllib3/response.py\", line 459, in read\n",
      "    raise IncompleteRead(self._fp_bytes_read, self.length_remaining)\n",
      "  File \"/snap/jupyter/6/lib/python3.7/contextlib.py\", line 130, in __exit__\n",
      "    self.gen.throw(type, value, traceback)\n",
      "  File \"/snap/jupyter/6/lib/python3.7/site-packages/pip/_vendor/urllib3/response.py\", line 365, in _error_catcher\n",
      "    raise ReadTimeoutError(self._pool, None, 'Read timed out.')\n",
      "pip._vendor.urllib3.exceptions.ReadTimeoutError: HTTPSConnectionPool(host='files.pythonhosted.org', port=443): Read timed out.\u001b[0m\n"
     ]
    }
   ],
   "source": [
    "!pip install tensorflow\n"
   ]
  },
  {
   "cell_type": "code",
   "execution_count": 1,
   "metadata": {},
   "outputs": [
    {
     "ename": "ModuleNotFoundError",
     "evalue": "No module named 'tensorflow'",
     "output_type": "error",
     "traceback": [
      "\u001b[0;31m---------------------------------------------------------------------------\u001b[0m",
      "\u001b[0;31mModuleNotFoundError\u001b[0m                       Traceback (most recent call last)",
      "\u001b[0;32m<ipython-input-1-eedb867189e9>\u001b[0m in \u001b[0;36m<module>\u001b[0;34m\u001b[0m\n\u001b[1;32m      1\u001b[0m \u001b[0;31m#   import TensorFlow\u001b[0m\u001b[0;34m\u001b[0m\u001b[0;34m\u001b[0m\u001b[0;34m\u001b[0m\u001b[0m\n\u001b[0;32m----> 2\u001b[0;31m \u001b[0;32mimport\u001b[0m \u001b[0mtensorflow\u001b[0m \u001b[0;32mas\u001b[0m \u001b[0mtf\u001b[0m\u001b[0;34m\u001b[0m\u001b[0;34m\u001b[0m\u001b[0m\n\u001b[0m\u001b[1;32m      3\u001b[0m \u001b[0;34m\u001b[0m\u001b[0m\n\u001b[1;32m      4\u001b[0m \u001b[0msess\u001b[0m \u001b[0;34m=\u001b[0m \u001b[0mtf\u001b[0m\u001b[0;34m.\u001b[0m\u001b[0mSession\u001b[0m\u001b[0;34m(\u001b[0m\u001b[0;34m)\u001b[0m\u001b[0;34m\u001b[0m\u001b[0;34m\u001b[0m\u001b[0m\n\u001b[1;32m      5\u001b[0m \u001b[0;34m\u001b[0m\u001b[0m\n",
      "\u001b[0;31mModuleNotFoundError\u001b[0m: No module named 'tensorflow'"
     ]
    }
   ],
   "source": [
    "#   import TensorFlow\n",
    "import tensorflow as tf\n",
    "\n",
    "sess = tf.Session()\n",
    "\n",
    "# Verify we can print a string\n",
    "hello = tf.constant(\"Hello Pluralsight from TensorFlow\")\n",
    "print(sess.run(hello))\n",
    "\n",
    "#   Perform some simple math\n",
    "a = tf.constant(20)\n",
    "b = tf.constant(22)\n",
    "print('a + b = {0}'.format(sess.run(a + b)))\n"
   ]
  },
  {
   "cell_type": "code",
   "execution_count": 2,
   "metadata": {},
   "outputs": [
    {
     "name": "stdout",
     "output_type": "stream",
     "text": [
      "gg\n"
     ]
    },
    {
     "ename": "ModuleNotFoundError",
     "evalue": "No module named 'seaborn'",
     "output_type": "error",
     "traceback": [
      "\u001b[0;31m---------------------------------------------------------------------------\u001b[0m",
      "\u001b[0;31mModuleNotFoundError\u001b[0m                       Traceback (most recent call last)",
      "\u001b[0;32m<ipython-input-2-cb9016c63d3d>\u001b[0m in \u001b[0;36m<module>\u001b[0;34m\u001b[0m\n\u001b[1;32m      1\u001b[0m \u001b[0mprint\u001b[0m\u001b[0;34m(\u001b[0m\u001b[0;34m\"gg\"\u001b[0m\u001b[0;34m)\u001b[0m\u001b[0;34m\u001b[0m\u001b[0;34m\u001b[0m\u001b[0m\n\u001b[0;32m----> 2\u001b[0;31m \u001b[0;32mimport\u001b[0m \u001b[0mseaborn\u001b[0m \u001b[0;32mas\u001b[0m \u001b[0msns\u001b[0m\u001b[0;34m\u001b[0m\u001b[0;34m\u001b[0m\u001b[0m\n\u001b[0m",
      "\u001b[0;31mModuleNotFoundError\u001b[0m: No module named 'seaborn'"
     ]
    }
   ],
   "source": [
    "print(\"gg\")\n",
    "import seaborn as sns"
   ]
  },
  {
   "cell_type": "code",
   "execution_count": 3,
   "metadata": {},
   "outputs": [
    {
     "name": "stdout",
     "output_type": "stream",
     "text": [
      "Python 3.7.3\r\n"
     ]
    }
   ],
   "source": [
    "!python --version\n"
   ]
  },
  {
   "cell_type": "code",
   "execution_count": null,
   "metadata": {},
   "outputs": [],
   "source": []
  }
 ],
 "metadata": {
  "kernelspec": {
   "display_name": "Python 3",
   "language": "python",
   "name": "python3"
  },
  "language_info": {
   "codemirror_mode": {
    "name": "ipython",
    "version": 3
   },
   "file_extension": ".py",
   "mimetype": "text/x-python",
   "name": "python",
   "nbconvert_exporter": "python",
   "pygments_lexer": "ipython3",
   "version": "3.7.3"
  }
 },
 "nbformat": 4,
 "nbformat_minor": 2
}
