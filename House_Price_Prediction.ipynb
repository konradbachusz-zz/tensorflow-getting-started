{
  "nbformat": 4,
  "nbformat_minor": 0,
  "metadata": {
    "kernelspec": {
      "display_name": "Python 3",
      "language": "python",
      "name": "python3"
    },
    "language_info": {
      "codemirror_mode": {
        "name": "ipython",
        "version": 3
      },
      "file_extension": ".py",
      "mimetype": "text/x-python",
      "name": "python",
      "nbconvert_exporter": "python",
      "pygments_lexer": "ipython3",
      "version": "3.7.3"
    },
    "colab": {
      "name": "House_Price_Prediction.ipynb",
      "provenance": [],
      "collapsed_sections": [],
      "include_colab_link": true
    }
  },
  "cells": [
    {
      "cell_type": "markdown",
      "metadata": {
        "id": "view-in-github",
        "colab_type": "text"
      },
      "source": [
        "<a href=\"https://colab.research.google.com/github/konradbachusz/tensorflow-getting-started/blob/master/House_Price_Prediction.ipynb\" target=\"_parent\"><img src=\"https://colab.research.google.com/assets/colab-badge.svg\" alt=\"Open In Colab\"/></a>"
      ]
    },
    {
      "cell_type": "code",
      "metadata": {
        "id": "cB5Cte4rXBdo",
        "colab_type": "code",
        "outputId": "83b322f0-adb8-4a3d-9ccf-db72a523e18f",
        "colab": {
          "base_uri": "https://localhost:8080/",
          "height": 34
        }
      },
      "source": [
        "\"%tensorflow_version 1.x\" "
      ],
      "execution_count": 0,
      "outputs": [
        {
          "output_type": "execute_result",
          "data": {
            "text/plain": [
              "'%tensorflow_version 1.x'"
            ]
          },
          "metadata": {
            "tags": []
          },
          "execution_count": 1
        }
      ]
    },
    {
      "cell_type": "code",
      "metadata": {
        "id": "xtrgl-ruWudr",
        "colab_type": "code",
        "outputId": "bca53d9d-6f7b-49c8-8fef-d4b8445eb3b4",
        "colab": {
          "base_uri": "https://localhost:8080/",
          "height": 351
        }
      },
      "source": [
        "#\n",
        "#   House_Price_Prediction.py\n",
        "#\n",
        "#    This is a very simple prediction of house prices based on house size, implemented \n",
        "#   in TensorFlow.  This code is part of Pluralsight's course \"TensorFlow: Getting Started\"\n",
        "#\n",
        "\n",
        "import tensorflow as tf\n",
        "import numpy as np\n",
        "import math\n",
        "import matplotlib\n",
        "%matplotlib inline\n",
        "import matplotlib.pyplot as plt\n",
        "import matplotlib.animation as animation # import animation support\n",
        "import tensorflow.compat.v1 as tf\n",
        "tf.disable_v2_behavior() \n",
        "#  generation some house sizes between 1000 and 3500 (typical sq ft of house)\n",
        "num_house = 160\n",
        "np.random.seed(42)\n",
        "house_size = np.random.randint(low=1000, high=3500, size=num_house )\n",
        "\n",
        "# Generate house prices from house size with a random noise added.\n",
        "np.random.seed(42)\n",
        "house_price = house_size * 100.0 + np.random.randint(low=20000, high=70000, size=num_house)  \n",
        "\n",
        "# Plot generated house and size \n",
        "plt.plot(house_size, house_price, \"bx\")  # bx = blue x\n",
        "plt.ylabel(\"Price\")\n",
        "plt.xlabel(\"Size\")\n",
        "plt.show()\n",
        "\n"
      ],
      "execution_count": 0,
      "outputs": [
        {
          "output_type": "stream",
          "text": [
            "WARNING:tensorflow:From /usr/local/lib/python3.6/dist-packages/tensorflow/python/compat/v2_compat.py:96: disable_resource_variables (from tensorflow.python.ops.variable_scope) is deprecated and will be removed in a future version.\n",
            "Instructions for updating:\n",
            "non-resource variables are not supported in the long term\n"
          ],
          "name": "stdout"
        },
        {
          "output_type": "display_data",
          "data": {
            "image/png": "[encoded data removed]",
            "text/plain": [
              "<Figure size 432x288 with 1 Axes>"
            ]
          },
          "metadata": {
            "tags": []
          }
        }
      ]
    },
    {
      "cell_type": "code",
      "metadata": {
        "id": "Fy7LFrn3XEFF",
        "colab_type": "code",
        "outputId": "57bcd42c-5cd9-4e69-84f7-45cf7d2eac6a",
        "colab": {
          "base_uri": "https://localhost:8080/",
          "height": 983
        }
      },
      "source": [
        "\n",
        "# you need to normalize values to prevent under/overflows.\n",
        "def normalize(array):\n",
        "    return (array - array.mean()) / array.std()\n",
        "\n",
        "# define number of training samples, 0.7 = 70%.  We can take the first 70% since the values are randomized\n",
        "num_train_samples = math.floor(num_house * 0.7)\n",
        "\n",
        "# define training data\n",
        "train_house_size = np.asarray(house_size[:num_train_samples])\n",
        "train_price = np.asanyarray(house_price[:num_train_samples:])\n",
        "\n",
        "train_house_size_norm = normalize(train_house_size)\n",
        "train_price_norm = normalize(train_price)\n",
        "\n",
        "# define test data\n",
        "test_house_size = np.array(house_size[num_train_samples:])\n",
        "test_house_price = np.array(house_price[num_train_samples:])\n",
        "\n",
        "test_house_size_norm = normalize(test_house_size)\n",
        "test_house_price_norm = normalize(test_house_price)\n",
        "\n",
        "#  Set up the TensorFlow placeholders that get updated as we descend down the gradient\n",
        "tf_house_size = tf.placeholder(\"float\", name=\"house_size\")\n",
        "tf_price = tf.placeholder(\"float\", name=\"price\")\n",
        "\n",
        "# Define the variables holding the size_factor and price we set during training.  \n",
        "# We initialize them to some random values based on the normal distribution.\n",
        "tf_size_factor = tf.Variable(np.random.randn(), name=\"size_factor\")\n",
        "tf_price_offset = tf.Variable(np.random.randn(), name=\"price_offset\")\n",
        "\n",
        "\n",
        "# 2. Define the operations for the predicting values - predicted price = (size_factor * house_size ) + price_offset\n",
        "#  Notice, the use of the tensorflow add and multiply functions.  These add the operations to the computation graph,\n",
        "#  AND the tensorflow methods understand how to deal with Tensors.  Therefore do not try to use numpy or other library \n",
        "#  methods.\n",
        "tf_price_pred = tf.add(tf.multiply(tf_size_factor, tf_house_size), tf_price_offset)\n",
        "\n",
        "\n",
        "# 3. Define the Loss Function (how much error) - Mean squared error\n",
        "tf_cost = tf.reduce_sum(tf.pow(tf_price_pred-tf_price, 2))/(2*num_train_samples)\n",
        "\n",
        "\n",
        "# Optimizer learning rate.  The size of the steps down the gradient\n",
        "learning_rate = 0.1\n",
        "\n",
        "# 4. define a Gradient descent optimizer that will minimize the loss defined in the operation \"cost\".\n",
        "optimizer = tf.train.GradientDescentOptimizer(learning_rate).minimize(tf_cost)\n",
        "\n",
        "# Initializing the variables\n",
        "init = tf.global_variables_initializer()\n",
        "\n",
        "# Launch the graph in the session\n",
        "with tf.Session() as sess:\n",
        "    sess.run(init)\n",
        "\n",
        "    # set how often to display training progress and number of training iterations\n",
        "    display_every = 2\n",
        "    num_training_iter = 50\n",
        "\n",
        "    # calculate the number of lines to animation\n",
        "    fit_num_plots = math.floor(num_training_iter/display_every)\n",
        "    # add storage of factor and offset values from each epoch\n",
        "    fit_size_factor = np.zeros(fit_num_plots)\n",
        "    fit_price_offsets = np.zeros(fit_num_plots)\n",
        "    fit_plot_idx = 0    \n",
        "\n",
        "   # keep iterating the training data\n",
        "    for iteration in range(num_training_iter):\n",
        "\n",
        "        # Fit all training data\n",
        "        for (x, y) in zip(train_house_size_norm, train_price_norm):\n",
        "            sess.run(optimizer, feed_dict={tf_house_size: x, tf_price: y})\n",
        "\n",
        "        # Display current status\n",
        "        if (iteration + 1) % display_every == 0:\n",
        "            c = sess.run(tf_cost, feed_dict={tf_house_size: train_house_size_norm, tf_price:train_price_norm})\n",
        "            print(\"iteration #:\", '%04d' % (iteration + 1), \"cost=\", \"{:.9f}\".format(c), \\\n",
        "                \"size_factor=\", sess.run(tf_size_factor), \"price_offset=\", sess.run(tf_price_offset))\n",
        "            # Save the fit size_factor and price_offset to allow animation of learning process\n",
        "            fit_size_factor[fit_plot_idx] = sess.run(tf_size_factor)\n",
        "            fit_price_offsets[fit_plot_idx] = sess.run(tf_price_offset)\n",
        "            fit_plot_idx = fit_plot_idx + 1\n",
        "\n",
        "    print(\"Optimization Finished!\")\n",
        "    training_cost = sess.run(tf_cost, feed_dict={tf_house_size: train_house_size_norm, tf_price: train_price_norm})\n",
        "    print(\"Trained cost=\", training_cost, \"size_factor=\", sess.run(tf_size_factor), \"price_offset=\", sess.run(tf_price_offset), '\\n')\n",
        "\n",
        "\n",
        "   # Plot of training and test data, and learned regression\n",
        "    \n",
        "    # get values used to normalized data so we can denormalize data back to its original scale\n",
        "    train_house_size_mean = train_house_size.mean()\n",
        "    train_house_size_std = train_house_size.std()\n",
        "\n",
        "    train_price_mean = train_price.mean()\n",
        "    train_price_std = train_price.std()\n",
        "\n",
        "    # Plot the graph\n",
        "    plt.rcParams[\"figure.figsize\"] = (10,8)\n",
        "    plt.figure()\n",
        "    plt.ylabel(\"Price\")\n",
        "    plt.xlabel(\"Size (sq.ft)\")\n",
        "    plt.plot(train_house_size, train_price, 'go', label='Training data')\n",
        "    plt.plot(test_house_size, test_house_price, 'mo', label='Testing data')\n",
        "    plt.plot(train_house_size_norm * train_house_size_std + train_house_size_mean,\n",
        "             (sess.run(tf_size_factor) * train_house_size_norm + sess.run(tf_price_offset)) * train_price_std + train_price_mean,\n",
        "             label='Learned Regression')\n",
        " \n",
        "    plt.legend(loc='upper left')\n",
        "    plt.show()\n",
        "\n",
        "\n"
      ],
      "execution_count": 12,
      "outputs": [
        {
          "output_type": "stream",
          "text": [
            "iteration #: 0002 cost= 1.435972571 size_factor= -0.5644572 price_offset= -0.6690232\n",
            "iteration #: 0004 cost= 0.968542278 size_factor= -0.28408852 price_offset= -0.5475985\n",
            "iteration #: 0006 cost= 0.655411601 size_factor= -0.054600086 price_offset= -0.44820008\n",
            "iteration #: 0008 cost= 0.445653200 size_factor= 0.13324158 price_offset= -0.36683252\n",
            "iteration #: 0010 cost= 0.305147111 size_factor= 0.28699446 price_offset= -0.30022496\n",
            "iteration #: 0012 cost= 0.211034507 size_factor= 0.41284454 price_offset= -0.24569999\n",
            "iteration #: 0014 cost= 0.148000419 size_factor= 0.515856 price_offset= -0.20106572\n",
            "iteration #: 0016 cost= 0.105785333 size_factor= 0.60017306 price_offset= -0.16452807\n",
            "iteration #: 0018 cost= 0.077515393 size_factor= 0.6691893 price_offset= -0.1346182\n",
            "iteration #: 0020 cost= 0.058586527 size_factor= 0.7256801 price_offset= -0.11013399\n",
            "iteration #: 0022 cost= 0.045913842 size_factor= 0.7719193 price_offset= -0.09009117\n",
            "iteration #: 0024 cost= 0.037431080 size_factor= 0.8097671 price_offset= -0.07368407\n",
            "iteration #: 0026 cost= 0.031754140 size_factor= 0.84074634 price_offset= -0.060253233\n",
            "iteration #: 0028 cost= 0.027955905 size_factor= 0.8661035 price_offset= -0.04925867\n",
            "iteration #: 0030 cost= 0.025415407 size_factor= 0.8868592 price_offset= -0.04025849\n",
            "iteration #: 0032 cost= 0.023716820 size_factor= 0.9038484 price_offset= -0.032890942\n",
            "iteration #: 0034 cost= 0.022581676 size_factor= 0.91775465 price_offset= -0.026859853\n",
            "iteration #: 0036 cost= 0.021823520 size_factor= 0.92913735 price_offset= -0.021922786\n",
            "iteration #: 0038 cost= 0.021317534 size_factor= 0.93845385 price_offset= -0.017881306\n",
            "iteration #: 0040 cost= 0.020980125 size_factor= 0.94607955 price_offset= -0.014572931\n",
            "iteration #: 0042 cost= 0.020755371 size_factor= 0.9523213 price_offset= -0.011864693\n",
            "iteration #: 0044 cost= 0.020605851 size_factor= 0.95743054 price_offset= -0.009647726\n",
            "iteration #: 0046 cost= 0.020506553 size_factor= 0.9616126 price_offset= -0.007832915\n",
            "iteration #: 0048 cost= 0.020440742 size_factor= 0.96503556 price_offset= -0.006347309\n",
            "iteration #: 0050 cost= 0.020397237 size_factor= 0.96783745 price_offset= -0.0051311934\n",
            "Optimization Finished!\n",
            "Trained cost= 0.020397237 size_factor= 0.96783745 price_offset= -0.0051311934 \n",
            "\n"
          ],
          "name": "stdout"
        },
        {
          "output_type": "display_data",
          "data": {
            "image/png": "[encoded data removed]",
            "text/plain": [
              "<Figure size 720x576 with 1 Axes>"
            ]
          },
          "metadata": {
            "tags": []
          }
        }
      ]
    },
    {
      "cell_type": "code",
      "metadata": {
        "id": "Zb0qrd1zhysF",
        "colab_type": "code",
        "colab": {}
      },
      "source": [
        ""
      ],
      "execution_count": 0,
      "outputs": []
    }
  ]
}