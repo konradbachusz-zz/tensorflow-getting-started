{
  "nbformat": 4,
  "nbformat_minor": 0,
  "metadata": {
    "colab": {
      "name": "DeepMNIST.ipynb",
      "provenance": [],
      "collapsed_sections": [],
      "authorship_tag": "ABX9TyP39G/5IxK0uPfEJerWxRc9",
      "include_colab_link": true
    },
    "kernelspec": {
      "name": "python3",
      "display_name": "Python 3"
    }
  },
  "cells": [
    {
      "cell_type": "markdown",
      "metadata": {
        "id": "view-in-github",
        "colab_type": "text"
      },
      "source": [
        "<a href=\"https://colab.research.google.com/github/konradbachusz/tensorflow-getting-started/blob/master/SimpleMNIST.ipynb\" target=\"_parent\"><img src=\"https://colab.research.google.com/assets/colab-badge.svg\" alt=\"Open In Colab\"/></a>"
      ]
    },
    {
      "cell_type": "code",
      "metadata": {
        "id": "bgZd6zdhzxwW",
        "colab_type": "code",
        "colab": {
          "base_uri": "https://localhost:8080/",
          "height": 34
        },
        "outputId": "a0dc2489-9830-4ff9-ab8d-0d835c981dcc"
      },
      "source": [
        "\"%tensorflow_version 1.5\" "
      ],
      "execution_count": 5,
      "outputs": [
        {
          "output_type": "execute_result",
          "data": {
            "text/plain": [
              "'%tensorflow_version 1.5'"
            ]
          },
          "metadata": {
            "tags": []
          },
          "execution_count": 5
        }
      ]
    },
    {
      "cell_type": "code",
      "metadata": {
        "id": "VbvhJA-XwvLe",
        "colab_type": "code",
        "colab": {
          "base_uri": "https://localhost:8080/",
          "height": 104
        },
        "outputId": "1b5f433d-6b52-448c-d43e-011f6db307af"
      },
      "source": [
        "#\n",
        "#   SimpleMNIST.py \n",
        "#   Simple NN to classify handwritten digits from MNIST dataset\n",
        "#\n",
        "\n",
        "import tensorflow as tf\n",
        "from tensorflow.examples.tutorials.mnist import input_data\n",
        "\n",
        "# We use the TF helper function to pull down the data from the MNIST site\n",
        "mnist = input_data.read_data_sets(\"MNIST_data/\", one_hot=True)\n",
        "\n",
        "# x is placeholder for the 28 X 28 image data\n",
        "x = tf.placeholder(tf.float32, shape=[None, 784])\n",
        "\n",
        "# y_ is called \"y bar\" and is a 10 element vector, containing the predicted  \n",
        "#   digit(0-9) class in one-hot encoded format. [0,1,0,0,0,0,0,0,0,0] for 1, [0,0,0,0,0,0,0,0,0,1] for 9\n",
        "y_ = tf.placeholder(tf.float32, [None, 10])  \n",
        "\n",
        "# define weights and bias\n",
        "W = tf.Variable(tf.zeros([784, 10]))\n",
        "b = tf.Variable(tf.zeros([10]))\n",
        "\n",
        "# define our inference model\n",
        "y = tf.nn.softmax(tf.matmul(x, W) + b)\n",
        "\n",
        "# loss is cross entropy\n",
        "cross_entropy = tf.reduce_mean(\n",
        "                tf.nn.softmax_cross_entropy_with_logits(labels=y_, logits=y))\n",
        "\n",
        "# each training step in gradient decent we want to minimize cross entropy\n",
        "train_step = tf.train.GradientDescentOptimizer(0.5).minimize(cross_entropy)\n",
        "\n",
        "# initialize the global variables\n",
        "init = tf.global_variables_initializer()\n",
        "\n",
        "# create an interactive session that can span multiple code blocks.  Don't \n",
        "# forget to explicity close the session with sess.close()\n",
        "sess = tf.Session()\n",
        "\n",
        "# perform the initialization which is only the initialization of all global variables\n",
        "sess.run(init)\n",
        "\n",
        "# Perform 1000 training steps\n",
        "for i in range(1000):\n",
        "    batch_xs, batch_ys = mnist.train.next_batch(100)    # get 100 random data points from the data. batch_xs = image, \n",
        "                                                        # batch_ys = digit(0-9) class\n",
        "    sess.run(train_step, feed_dict={x: batch_xs, y_: batch_ys}) # do the optimization with this data\n",
        "\n",
        "# Evaluate how well the model did. Do this by comparing the digit with the highest probability in \n",
        "#    actual (y) and predicted (y_).\n",
        "correct_prediction = tf.equal(tf.argmax(y,1), tf.argmax(y_,1))\n",
        "accuracy = tf.reduce_mean(tf.cast(correct_prediction, tf.float32))\n",
        "test_accuracy = sess.run(accuracy, feed_dict={x: mnist.test.images, y_: mnist.test.labels})\n",
        "print(\"Test Accuracy: {0}%\".format(test_accuracy * 100.0))\n",
        "\n",
        "sess.close()"
      ],
      "execution_count": 7,
      "outputs": [
        {
          "output_type": "stream",
          "text": [
            "Extracting MNIST_data/train-images-idx3-ubyte.gz\n",
            "Extracting MNIST_data/train-labels-idx1-ubyte.gz\n",
            "Extracting MNIST_data/t10k-images-idx3-ubyte.gz\n",
            "Extracting MNIST_data/t10k-labels-idx1-ubyte.gz\n",
            "Test Accuracy: 90.6499981880188%\n"
          ],
          "name": "stdout"
        }
      ]
    }
  ]
}