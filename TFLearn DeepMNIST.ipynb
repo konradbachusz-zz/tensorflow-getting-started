{
  "nbformat": 4,
  "nbformat_minor": 0,
  "metadata": {
    "colab": {
      "name": "DeepMNIST.ipynb",
      "provenance": [],
      "collapsed_sections": [],
      "authorship_tag": "ABX9TyM/TcD+Kdyvwxf3gTGgj3rA",
      "include_colab_link": true
    },
    "kernelspec": {
      "name": "python3",
      "display_name": "Python 3"
    },
    "accelerator": "GPU"
  },
  "cells": [
    {
      "cell_type": "markdown",
      "metadata": {
        "id": "view-in-github",
        "colab_type": "text"
      },
      "source": [
        "<a href=\"https://colab.research.google.com/github/konradbachusz/tensorflow-getting-started/blob/master/TFLearn%20DeepMNIST.ipynb\" target=\"_parent\"><img src=\"https://colab.research.google.com/assets/colab-badge.svg\" alt=\"Open In Colab\"/></a>"
      ]
    },
    {
      "cell_type": "code",
      "metadata": {
        "id": "gGWek7y2Vqy8",
        "colab_type": "code",
        "outputId": "b3b65fcb-8c59-4e96-bb38-b14ee86899ba",
        "colab": {
          "base_uri": "https://localhost:8080/",
          "height": 225
        }
      },
      "source": [
        "!pip uninstall tensorflow\n"
      ],
      "execution_count": 1,
      "outputs": [
        {
          "output_type": "stream",
          "text": [
            "Uninstalling tensorflow-1.5.0:\n",
            "  Would remove:\n",
            "    /usr/local/bin/freeze_graph\n",
            "    /usr/local/bin/saved_model_cli\n",
            "    /usr/local/bin/tensorboard\n",
            "    /usr/local/bin/toco\n",
            "    /usr/local/bin/toco_from_protos\n",
            "    /usr/local/lib/python3.6/dist-packages/external/*\n",
            "    /usr/local/lib/python3.6/dist-packages/tensorflow-1.5.0.dist-info/*\n",
            "    /usr/local/lib/python3.6/dist-packages/tensorflow/*\n",
            "Proceed (y/n)? y\n",
            "  Successfully uninstalled tensorflow-1.5.0\n"
          ],
          "name": "stdout"
        }
      ]
    },
    {
      "cell_type": "code",
      "metadata": {
        "id": "53q3rni3WEty",
        "colab_type": "code",
        "outputId": "6175f796-443e-42f8-8242-dbf80ef778ce",
        "colab": {
          "base_uri": "https://localhost:8080/",
          "height": 298
        }
      },
      "source": [
        "!pip install tensorflow==1.5"
      ],
      "execution_count": 2,
      "outputs": [
        {
          "output_type": "stream",
          "text": [
            "Collecting tensorflow==1.5\n",
            "  Using cached https://files.pythonhosted.org/packages/04/79/a37d0b373757b4d283c674a64127bd8864d69f881c639b1ee5953e2d9301/tensorflow-1.5.0-cp36-cp36m-manylinux1_x86_64.whl\n",
            "Requirement already satisfied: six>=1.10.0 in /usr/local/lib/python3.6/dist-packages (from tensorflow==1.5) (1.12.0)\n",
            "Requirement already satisfied: absl-py>=0.1.6 in /usr/local/lib/python3.6/dist-packages (from tensorflow==1.5) (0.9.0)\n",
            "Requirement already satisfied: numpy>=1.12.1 in /usr/local/lib/python3.6/dist-packages (from tensorflow==1.5) (1.18.2)\n",
            "Requirement already satisfied: protobuf>=3.4.0 in /usr/local/lib/python3.6/dist-packages (from tensorflow==1.5) (3.10.0)\n",
            "Requirement already satisfied: tensorflow-tensorboard<1.6.0,>=1.5.0 in /usr/local/lib/python3.6/dist-packages (from tensorflow==1.5) (1.5.1)\n",
            "Requirement already satisfied: wheel>=0.26 in /usr/local/lib/python3.6/dist-packages (from tensorflow==1.5) (0.34.2)\n",
            "Requirement already satisfied: setuptools in /usr/local/lib/python3.6/dist-packages (from protobuf>=3.4.0->tensorflow==1.5) (46.0.0)\n",
            "Requirement already satisfied: werkzeug>=0.11.10 in /usr/local/lib/python3.6/dist-packages (from tensorflow-tensorboard<1.6.0,>=1.5.0->tensorflow==1.5) (1.0.0)\n",
            "Requirement already satisfied: markdown>=2.6.8 in /usr/local/lib/python3.6/dist-packages (from tensorflow-tensorboard<1.6.0,>=1.5.0->tensorflow==1.5) (3.2.1)\n",
            "Requirement already satisfied: bleach==1.5.0 in /usr/local/lib/python3.6/dist-packages (from tensorflow-tensorboard<1.6.0,>=1.5.0->tensorflow==1.5) (1.5.0)\n",
            "Requirement already satisfied: html5lib==0.9999999 in /usr/local/lib/python3.6/dist-packages (from tensorflow-tensorboard<1.6.0,>=1.5.0->tensorflow==1.5) (0.9999999)\n",
            "Installing collected packages: tensorflow\n",
            "Successfully installed tensorflow-1.5.0\n"
          ],
          "name": "stdout"
        }
      ]
    },
    {
      "cell_type": "code",
      "metadata": {
        "id": "94KjaG-IrZVp",
        "colab_type": "code",
        "colab": {
          "base_uri": "https://localhost:8080/",
          "height": 86
        },
        "outputId": "20e4b5e7-9844-4c56-edde-446956b326f7"
      },
      "source": [
        "!pip install tflearn"
      ],
      "execution_count": 3,
      "outputs": [
        {
          "output_type": "stream",
          "text": [
            "Requirement already satisfied: tflearn in /usr/local/lib/python3.6/dist-packages (0.3.2)\n",
            "Requirement already satisfied: six in /usr/local/lib/python3.6/dist-packages (from tflearn) (1.12.0)\n",
            "Requirement already satisfied: Pillow in /usr/local/lib/python3.6/dist-packages (from tflearn) (7.0.0)\n",
            "Requirement already satisfied: numpy in /usr/local/lib/python3.6/dist-packages (from tflearn) (1.18.2)\n"
          ],
          "name": "stdout"
        }
      ]
    },
    {
      "cell_type": "code",
      "metadata": {
        "id": "bgZd6zdhzxwW",
        "colab_type": "code",
        "outputId": "3f9b0fa6-feec-4cc3-8dab-de66f04e336b",
        "colab": {
          "base_uri": "https://localhost:8080/",
          "height": 34
        }
      },
      "source": [
        "\"%tensorflow_version 1.5\" "
      ],
      "execution_count": 4,
      "outputs": [
        {
          "output_type": "execute_result",
          "data": {
            "text/plain": [
              "'%tensorflow_version 1.5'"
            ]
          },
          "metadata": {
            "tags": []
          },
          "execution_count": 4
        }
      ]
    },
    {
      "cell_type": "code",
      "metadata": {
        "id": "i5v6P-iJEhH3",
        "colab_type": "code",
        "colab": {
          "base_uri": "https://localhost:8080/",
          "height": 104
        },
        "outputId": "c546663a-47f7-4703-f3ce-761647f80660"
      },
      "source": [
        "#\n",
        "#   TfLearn version of DeepMNIST\n",
        "#\n",
        "\n",
        "import tensorflow as tf\n",
        "from tensorflow.examples.tutorials.mnist import input_data\n",
        "\n",
        "# Create input object which reads data from MNIST datasets.  Perform one-hot encoding to define the digit\n",
        "mnist = input_data.read_data_sets(\"MNIST_data/\", one_hot=True)\n",
        "\n",
        "# Reference to TFLearn library\n",
        "import tflearn\n",
        "from tflearn.layers.core import input_data, dropout, fully_connected\n",
        "from tflearn.layers.conv import conv_2d, max_pool_2d\n",
        "from tflearn.layers.normalization import local_response_normalization\n",
        "from tflearn.layers.estimator import regression\n",
        "\n",
        "image_rows = 28\n",
        "image_cols = 28\n",
        "\n",
        "# reshape the training and test images to 28 X 28 X 1 \n",
        "train_images = mnist.train.images.reshape(mnist.train.images.shape[0],image_rows, image_cols, 1)\n",
        "test_images =  mnist.test.images.reshape(mnist.test.images.shape[0], image_rows, image_cols, 1)\n",
        "\n",
        "num_classes = 10\n",
        "keep_prob = 0.5                 # fraction to keep (0-1.0)\n",
        "\n",
        "# Define the shape of the data coming into the NN\n",
        "input = input_data(shape=[None, 28, 28, 1], name='input')\n",
        "\n",
        "# Do convolution on images, add bias and push through RELU activation\n",
        "network = conv_2d(input, nb_filter=32, filter_size=3, activation='relu', regularizer=\"L2\")\n",
        "#   Notice name was not specified.  The name is defaulted to \"Conv2D\", and will be postfixed with \"_n\" \n",
        "#   where n is the number of the occurance.  Nice!\n",
        "# take results and run through max_pool\n",
        "network = max_pool_2d(network, 2)\n",
        "\n",
        "# 2nd Convolution layer\n",
        "# Do convolution on images, add bias and push through RELU activation\n",
        "network = conv_2d(network, nb_filter=64, filter_size=3, activation='relu', regularizer=\"L2\")\n",
        "# take results and run through max_pool\n",
        "network = max_pool_2d(network, 2)\n",
        "\n",
        "# Fully Connected Layer\n",
        "network = fully_connected(network, 128, activation='tanh')\n",
        "\n",
        "# dropout some neurons to reduce overfitting\n",
        "network = dropout(network, keep_prob)\n",
        "\n",
        "# Readout layer\n",
        "network = fully_connected(network, 10, activation='softmax')\n",
        "\n",
        "# Set loss and measurement, optimizer\n",
        "network = regression(network, optimizer='adam', learning_rate=0.01,\n",
        "                        loss='categorical_crossentropy', name='target')\n",
        "\n",
        "# Training\n",
        "num_epoch = 2   # number of times through the data.\n",
        "model = tflearn.DNN(network, tensorboard_verbose=0)  # for more info in tenorboard turn on tensorboard_verbose\n",
        "model.fit({'input': train_images}, {'target': mnist.train.labels}, n_epoch=num_epoch,\n",
        "           validation_set=({'input': test_images}, {'target': mnist.test.labels}),\n",
        "            show_metric=True, run_id='TFLearn_DeepMNIST')\n"
      ],
      "execution_count": 5,
      "outputs": [
        {
          "output_type": "stream",
          "text": [
            "Training Step: 1719  | total loss: \u001b[1m\u001b[32m0.10401\u001b[0m\u001b[0m | time: 119.193s\n",
            "| Adam | epoch: 002 | loss: 0.10401 - acc: 0.9711 -- iter: 54976/55000\n",
            "Training Step: 1720  | total loss: \u001b[1m\u001b[32m0.11101\u001b[0m\u001b[0m | time: 126.154s\n",
            "| Adam | epoch: 002 | loss: 0.11101 - acc: 0.9708 | val_loss: 0.05516 - val_acc: 0.9834 -- iter: 55000/55000\n",
            "--\n"
          ],
          "name": "stdout"
        }
      ]
    },
    {
      "cell_type": "code",
      "metadata": {
        "id": "E09wwWgnrbvl",
        "colab_type": "code",
        "colab": {}
      },
      "source": [
        ""
      ],
      "execution_count": 0,
      "outputs": []
    }
  ]
}